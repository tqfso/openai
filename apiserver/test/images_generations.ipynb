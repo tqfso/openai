{
 "cells": [
  {
   "cell_type": "markdown",
   "id": "f35154dd",
   "metadata": {},
   "source": [
    "# 测试图片生成接口"
   ]
  },
  {
   "cell_type": "code",
   "execution_count": null,
   "id": "19cd5f68",
   "metadata": {},
   "outputs": [],
   "source": [
    "from openai import OpenAI\n",
    "from PIL import Image\n",
    "from io import BytesIO\n",
    "import base64"
   ]
  },
  {
   "cell_type": "code",
   "execution_count": null,
   "id": "a35e10f5",
   "metadata": {},
   "outputs": [],
   "source": [
    "client = OpenAI(\n",
    "    base_url=\"http://localhost:8000/v1\",\n",
    "    api_key=\"EMPTY\"\n",
    ")"
   ]
  },
  {
   "cell_type": "code",
   "execution_count": null,
   "id": "f55a4053",
   "metadata": {},
   "outputs": [],
   "source": [
    "# 生成图片\n",
    "response = client.images.generate(\n",
    "    model=\"stabilityai/stable-diffusion-xl-base-1.0\",\n",
    "    prompt=\"A majestic lion jumping from a big stone at night\",\n",
    "    size=\"1024x1024\",  # 可以是 \"256x256\", \"512x512\", \"1024x1024\"\n",
    "    response_format=\"b64_json\"\n",
    ")\n",
    "\n",
    "# 从返回结果中获取 base64 编码\n",
    "image_b64 = response.data[0].b64_json"
   ]
  },
  {
   "cell_type": "code",
   "execution_count": null,
   "id": "b1e42c5d",
   "metadata": {},
   "outputs": [],
   "source": [
    "# 进行显示\n",
    "img = Image.open(BytesIO(base64.b64decode(image_b64)))\n",
    "new_size = (245, 256)\n",
    "img_resized = img.resize(new_size, Image.Resampling.LANCZOS)\n",
    "display(img_resized)"
   ]
  }
 ],
 "metadata": {
  "kernelspec": {
   "display_name": "openai",
   "language": "python",
   "name": "python3"
  },
  "language_info": {
   "codemirror_mode": {
    "name": "ipython",
    "version": 3
   },
   "file_extension": ".py",
   "mimetype": "text/x-python",
   "name": "python",
   "nbconvert_exporter": "python",
   "pygments_lexer": "ipython3",
   "version": "3.12.11"
  }
 },
 "nbformat": 4,
 "nbformat_minor": 5
}
